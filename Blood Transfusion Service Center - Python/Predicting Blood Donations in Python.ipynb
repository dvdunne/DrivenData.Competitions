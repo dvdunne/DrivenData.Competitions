{
 "cells": [
  {
   "cell_type": "markdown",
   "metadata": {},
   "source": [
    "# Predicting Blood Donations in Python"
   ]
  },
  {
   "cell_type": "markdown",
   "metadata": {},
   "source": [
    "A few months ago I wrote a post on my attempt at the [Predict Blood Donations](http://dateur.me/post/139244578361/predicting-blood-donations) practice competition from Drive Data. In that post I used R to run the analysis but in this post I am going to repeat the task using Python. \n",
    "\n",
    "## Getting Started\n",
    "First, I need to load the packages I will use and then load the data."
   ]
  },
  {
   "cell_type": "code",
   "execution_count": 1,
   "metadata": {
    "collapsed": true
   },
   "outputs": [],
   "source": [
    "import pandas as pd\n",
    "import matplotlib.pyplot as plt\n",
    "from sklearn import cross_validation\n",
    "from sklearn.preprocessing import StandardScaler\n",
    "from sklearn.metrics import classification_report\n",
    "from sklearn.metrics import confusion_matrix\n",
    "from sklearn.metrics import log_loss\n",
    "from sklearn.grid_search import GridSearchCV\n",
    "from sklearn.pipeline import Pipeline\n",
    "from sklearn.linear_model import LogisticRegression\n",
    "from sklearn.tree import DecisionTreeClassifier\n",
    "from sklearn.neighbors import KNeighborsClassifier\n",
    "from sklearn.discriminant_analysis import LinearDiscriminantAnalysis\n",
    "from sklearn.naive_bayes import GaussianNB\n",
    "from sklearn.svm import SVC\n",
    "%matplotlib inline"
   ]
  },
  {
   "cell_type": "code",
   "execution_count": 2,
   "metadata": {
    "collapsed": false
   },
   "outputs": [],
   "source": [
    "raw_data = pd.read_csv('data/dd-train.csv')\n",
    "raw_data.columns.values[0] = 'id'  # Rename the first column (unnamed)\n",
    "raw_data.columns = raw_data.columns.str.replace(' ', '_')  # Replace the spaces in the col names."
   ]
  },
  {
   "cell_type": "markdown",
   "metadata": {},
   "source": [
    "## Exploring The Data"
   ]
  },
  {
   "cell_type": "markdown",
   "metadata": {},
   "source": [
    "Let's take a quick look at this data."
   ]
  },
  {
   "cell_type": "code",
   "execution_count": 3,
   "metadata": {
    "collapsed": false
   },
   "outputs": [
    {
     "name": "stdout",
     "output_type": "stream",
     "text": [
      "(576, 6)\n"
     ]
    }
   ],
   "source": [
    "print(raw_data.shape)"
   ]
  },
  {
   "cell_type": "code",
   "execution_count": 4,
   "metadata": {
    "collapsed": false
   },
   "outputs": [
    {
     "name": "stdout",
     "output_type": "stream",
     "text": [
      "    id  Months_since_Last_Donation  Number_of_Donations  \\\n",
      "0  619                           2                   50   \n",
      "1  664                           0                   13   \n",
      "2  441                           1                   16   \n",
      "3  160                           2                   20   \n",
      "4  358                           1                   24   \n",
      "5  335                           4                    4   \n",
      "6   47                           2                    7   \n",
      "7  164                           1                   12   \n",
      "8  736                           5                   46   \n",
      "9  436                           0                    3   \n",
      "\n",
      "   Total_Volume_Donated_(c.c.)  Months_since_First_Donation  \\\n",
      "0                        12500                           98   \n",
      "1                         3250                           28   \n",
      "2                         4000                           35   \n",
      "3                         5000                           45   \n",
      "4                         6000                           77   \n",
      "5                         1000                            4   \n",
      "6                         1750                           14   \n",
      "7                         3000                           35   \n",
      "8                        11500                           98   \n",
      "9                          750                            4   \n",
      "\n",
      "   Made_Donation_in_March_2007  \n",
      "0                            1  \n",
      "1                            1  \n",
      "2                            1  \n",
      "3                            1  \n",
      "4                            0  \n",
      "5                            0  \n",
      "6                            1  \n",
      "7                            0  \n",
      "8                            1  \n",
      "9                            0  \n"
     ]
    }
   ],
   "source": [
    "print(raw_data.head(10))"
   ]
  },
  {
   "cell_type": "code",
   "execution_count": 5,
   "metadata": {
    "collapsed": false
   },
   "outputs": [
    {
     "name": "stdout",
     "output_type": "stream",
     "text": [
      "               id  Months_since_Last_Donation  Number_of_Donations  \\\n",
      "count  576.000000                  576.000000           576.000000   \n",
      "mean   374.034722                    9.439236             5.427083   \n",
      "std    216.947773                    8.175454             5.740010   \n",
      "min      0.000000                    0.000000             1.000000   \n",
      "25%    183.750000                    2.000000             2.000000   \n",
      "50%    375.500000                    7.000000             4.000000   \n",
      "75%    562.500000                   14.000000             7.000000   \n",
      "max    747.000000                   74.000000            50.000000   \n",
      "\n",
      "       Total_Volume_Donated_(c.c.)  Months_since_First_Donation  \\\n",
      "count                   576.000000                   576.000000   \n",
      "mean                   1356.770833                    34.050347   \n",
      "std                    1435.002556                    24.227672   \n",
      "min                     250.000000                     2.000000   \n",
      "25%                     500.000000                    16.000000   \n",
      "50%                    1000.000000                    28.000000   \n",
      "75%                    1750.000000                    49.250000   \n",
      "max                   12500.000000                    98.000000   \n",
      "\n",
      "       Made_Donation_in_March_2007  \n",
      "count                   576.000000  \n",
      "mean                      0.239583  \n",
      "std                       0.427200  \n",
      "min                       0.000000  \n",
      "25%                       0.000000  \n",
      "50%                       0.000000  \n",
      "75%                       0.000000  \n",
      "max                       1.000000  \n"
     ]
    }
   ],
   "source": [
    "print(raw_data.describe())"
   ]
  },
  {
   "cell_type": "code",
   "execution_count": 6,
   "metadata": {
    "collapsed": false
   },
   "outputs": [
    {
     "name": "stdout",
     "output_type": "stream",
     "text": [
      "Made_Donation_in_March_2007\n",
      "0    438\n",
      "1    138\n",
      "dtype: int64\n"
     ]
    }
   ],
   "source": [
    "print(raw_data.groupby('Made_Donation_in_March_2007').size())  # class distribution"
   ]
  },
  {
   "cell_type": "markdown",
   "metadata": {},
   "source": [
    "We will also generate a few plots so we can visualize the data."
   ]
  },
  {
   "cell_type": "code",
   "execution_count": 7,
   "metadata": {
    "collapsed": false
   },
   "outputs": [
    {
     "data": {
      "image/png": "[encoded data removed]",
      "text/plain": [
       "<matplotlib.figure.Figure at 0x2890ed035c0>"
      ]
     },
     "metadata": {},
     "output_type": "display_data"
    }
   ],
   "source": [
    "plot_data = raw_data[[1,2,3,4]]  # Columns we want to plot\n",
    "\n",
    "# histogram plots\n",
    "plot_data.hist(figsize=(12, 8))\n",
    "plt.show()"
   ]
  },
  {
   "cell_type": "code",
   "execution_count": 8,
   "metadata": {
    "collapsed": false
   },
   "outputs": [
    {
     "data": {
      "image/png": "[encoded data removed]",
      "text/plain": [
       "<matplotlib.figure.Figure at 0x2890f4e31d0>"
      ]
     },
     "metadata": {},
     "output_type": "display_data"
    }
   ],
   "source": [
    "plot_data.plot(kind='density', subplots=True, layout=(2,2), sharex=False, legend=False, figsize=(12, 8))\n",
    "plt.show()"
   ]
  },
  {
   "cell_type": "code",
   "execution_count": 9,
   "metadata": {
    "collapsed": false
   },
   "outputs": [
    {
     "data": {
      "image/png": "[encoded data removed]",
      "text/plain": [
       "<matplotlib.figure.Figure at 0x2890ee9f6d8>"
      ]
     },
     "metadata": {},
     "output_type": "display_data"
    }
   ],
   "source": [
    "# box and whisker plots\n",
    "plot_data.plot(kind='box', subplots=True, layout=(2,2), figsize=(12, 8))\n",
    "plt.show()"
   ]
  },
  {
   "cell_type": "markdown",
   "metadata": {},
   "source": [
    "## Cleaning up"
   ]
  },
  {
   "cell_type": "markdown",
   "metadata": {},
   "source": [
    "Let's check for correlations. Perhaps there will be some features that are correlated and could affect any model we create."
   ]
  },
  {
   "cell_type": "code",
   "execution_count": 10,
   "metadata": {
    "collapsed": false
   },
   "outputs": [
    {
     "name": "stdout",
     "output_type": "stream",
     "text": [
      "                                   id  Months_since_Last_Donation  \\\n",
      "id                           1.000000                   -0.023217   \n",
      "Months_since_Last_Donation  -0.023217                    1.000000   \n",
      "Number_of_Donations          0.063148                   -0.159731   \n",
      "Total_Volume_Donated_(c.c.)  0.063148                   -0.159731   \n",
      "Months_since_First_Donation  0.098370                    0.186899   \n",
      "Made_Donation_in_March_2007  0.041925                   -0.261234   \n",
      "\n",
      "                             Number_of_Donations  Total_Volume_Donated_(c.c.)  \\\n",
      "id                                      0.063148                     0.063148   \n",
      "Months_since_Last_Donation             -0.159731                    -0.159731   \n",
      "Number_of_Donations                     1.000000                     1.000000   \n",
      "Total_Volume_Donated_(c.c.)             1.000000                     1.000000   \n",
      "Months_since_First_Donation             0.622116                     0.622116   \n",
      "Made_Donation_in_March_2007             0.220615                     0.220615   \n",
      "\n",
      "                             Months_since_First_Donation  \\\n",
      "id                                              0.098370   \n",
      "Months_since_Last_Donation                      0.186899   \n",
      "Number_of_Donations                             0.622116   \n",
      "Total_Volume_Donated_(c.c.)                     0.622116   \n",
      "Months_since_First_Donation                     1.000000   \n",
      "Made_Donation_in_March_2007                    -0.019819   \n",
      "\n",
      "                             Made_Donation_in_March_2007  \n",
      "id                                              0.041925  \n",
      "Months_since_Last_Donation                     -0.261234  \n",
      "Number_of_Donations                             0.220615  \n",
      "Total_Volume_Donated_(c.c.)                     0.220615  \n",
      "Months_since_First_Donation                    -0.019819  \n",
      "Made_Donation_in_March_2007                     1.000000  \n"
     ]
    }
   ],
   "source": [
    "corrolations = raw_data.corr()\n",
    "print(corrolations)"
   ]
  },
  {
   "cell_type": "markdown",
   "metadata": {},
   "source": [
    "From this we can easily see a direct correlation between Number_of_Donations and Total_Volume_Donated column which makes sense if you think about it so let's remove the total volume column. \n"
   ]
  },
  {
   "cell_type": "code",
   "execution_count": 11,
   "metadata": {
    "collapsed": false
   },
   "outputs": [],
   "source": [
    "raw_data.drop(['Total_Volume_Donated_(c.c.)'], axis=1, inplace=True)"
   ]
  },
  {
   "cell_type": "markdown",
   "metadata": {},
   "source": [
    "## Feature Engineering\n",
    "\n",
    "To hopefully improve the accuracy of the model, I will add some extra features: One which counts the number of donations per month and one for the ratio of last to first donation months."
   ]
  },
  {
   "cell_type": "code",
   "execution_count": 12,
   "metadata": {
    "collapsed": false
   },
   "outputs": [],
   "source": [
    "raw_data['donations_per_month'] = raw_data['Number_of_Donations']/raw_data['Months_since_First_Donation']\n",
    "raw_data['tenure_ratio'] = raw_data['Months_since_Last_Donation']/raw_data['Months_since_First_Donation']"
   ]
  },
  {
   "cell_type": "markdown",
   "metadata": {},
   "source": [
    "## Model Baselines"
   ]
  },
  {
   "cell_type": "markdown",
   "metadata": {},
   "source": [
    "So we can test the accuracy of the model once it is defined, we will create a validation set."
   ]
  },
  {
   "cell_type": "code",
   "execution_count": 13,
   "metadata": {
    "collapsed": false
   },
   "outputs": [],
   "source": [
    "# Split-out validation dataset\n",
    "input_data = raw_data[['Months_since_Last_Donation', 'Number_of_Donations','Months_since_First_Donation','donations_per_month','tenure_ratio']]\n",
    "class_data = raw_data['Made_Donation_in_March_2007']\n",
    "X = input_data.values.astype(float)\n",
    "Y = class_data.values\n",
    "validation_size = 0.20\n",
    "seed = 7\n",
    "X_train, X_validation, Y_train, Y_validation = cross_validation.train_test_split(X, Y, test_size=validation_size, random_state=seed)"
   ]
  },
  {
   "cell_type": "markdown",
   "metadata": {},
   "source": [
    "Here we set up our test harness where we will do 10 fold cross validation. Also, since this competition is being judged on logLoss we set that up as our scoring metric."
   ]
  },
  {
   "cell_type": "code",
   "execution_count": 14,
   "metadata": {
    "collapsed": false
   },
   "outputs": [],
   "source": [
    "# Test options and evaluation metric\n",
    "num_folds = 10\n",
    "num_instances = len(X_train)\n",
    "seed = 7\n",
    "scoring = 'log_loss'"
   ]
  },
  {
   "cell_type": "markdown",
   "metadata": {},
   "source": [
    "To start we will spot check Logistic Regression, Linear Discriminant Analysis, K Nearest Neighbors, Gaussian Naive Bayes, and a Support Vector machine. "
   ]
  },
  {
   "cell_type": "code",
   "execution_count": 15,
   "metadata": {
    "collapsed": false
   },
   "outputs": [
    {
     "name": "stdout",
     "output_type": "stream",
     "text": [
      "LR: -0.505889 (0.058115)\n",
      "LDA: -0.506387 (0.060031)\n",
      "KNN: -2.542005 (0.657964)\n",
      "NB: -0.695691 (0.337030)\n",
      "SVM: -0.529515 (0.063590)\n"
     ]
    }
   ],
   "source": [
    "# Spot-Check Algorithms\n",
    "models = []\n",
    "models.append(('LR', LogisticRegression()))\n",
    "models.append(('LDA', LinearDiscriminantAnalysis()))\n",
    "models.append(('KNN', KNeighborsClassifier()))\n",
    "models.append(('NB', GaussianNB()))\n",
    "models.append(('SVM', SVC(probability=True)))\n",
    "\n",
    "results = []\n",
    "names = []\n",
    "for name, model in models:\n",
    "    kfold = cross_validation.KFold(n=num_instances, n_folds=num_folds, random_state=seed)\n",
    "    cv_results = cross_validation.cross_val_score(model, X_train, Y_train, cv=kfold, scoring=scoring)\n",
    "    results.append(cv_results)\n",
    "    names.append(name)\n",
    "    msg = \"%s: %f (%f)\" % (name, cv_results.mean(), cv_results.std())\n",
    "    print(msg)"
   ]
  },
  {
   "cell_type": "code",
   "execution_count": 16,
   "metadata": {
    "collapsed": false
   },
   "outputs": [
    {
     "data": {
      "image/png": "[encoded data removed]",
      "text/plain": [
       "<matplotlib.figure.Figure at 0x2890f4e3be0>"
      ]
     },
     "metadata": {},
     "output_type": "display_data"
    }
   ],
   "source": [
    "# Compare Algorithms\n",
    "fig = plt.figure(figsize=(12,8))\n",
    "fig.suptitle('Algorithm Comparison')\n",
    "ax = fig.add_subplot(111)\n",
    "plt.boxplot(results)\n",
    "ax.set_xticklabels(names)\n",
    "plt.show()"
   ]
  },
  {
   "cell_type": "markdown",
   "metadata": {},
   "source": [
    "Based on this box plot, we should drop the K Nearest Neighbor algorithm from the tests.\n",
    "\n",
    "Next, we will check to see if scaling will make a difference to the remaining algorithms. "
   ]
  },
  {
   "cell_type": "markdown",
   "metadata": {},
   "source": [
    "### Scaling"
   ]
  },
  {
   "cell_type": "code",
   "execution_count": 17,
   "metadata": {
    "collapsed": false
   },
   "outputs": [
    {
     "name": "stdout",
     "output_type": "stream",
     "text": [
      "ScaledLR: -0.505171 (0.058061)\n",
      "ScaledLDA: -0.506387 (0.060031)\n",
      "ScaledNB: -0.695693 (0.337030)\n",
      "ScaledSVM: -0.516211 (0.058274)\n"
     ]
    }
   ],
   "source": [
    "pipelines = []\n",
    "pipelines.append(('ScaledLR', Pipeline([('Scaler', StandardScaler()),('LR',\n",
    "LogisticRegression())])))\n",
    "pipelines.append(('ScaledLDA', Pipeline([('Scaler', StandardScaler()),('LDA',\n",
    "LinearDiscriminantAnalysis())])))\n",
    "pipelines.append(('ScaledNB', Pipeline([('Scaler', StandardScaler()),('NB',\n",
    "GaussianNB())])))\n",
    "pipelines.append(('ScaledSVM', Pipeline([('Scaler', StandardScaler()),('SVM', SVC(probability=True))])))\n",
    "results = []\n",
    "names = []\n",
    "for name, model in pipelines:\n",
    "    kfold = cross_validation.KFold(n=num_instances, n_folds=num_folds, random_state=seed)\n",
    "    cv_results = cross_validation.cross_val_score(model, X_train, Y_train, cv=kfold,\n",
    "    scoring=scoring)\n",
    "    results.append(cv_results)\n",
    "    names.append(name)\n",
    "    msg = \"%s: %f (%f)\" % (name, cv_results.mean(), cv_results.std())\n",
    "    print(msg)"
   ]
  },
  {
   "cell_type": "code",
   "execution_count": 18,
   "metadata": {
    "collapsed": false
   },
   "outputs": [
    {
     "data": {
      "image/png": "[encoded data removed]",
      "text/plain": [
       "<matplotlib.figure.Figure at 0x2890eefe5f8>"
      ]
     },
     "metadata": {},
     "output_type": "display_data"
    }
   ],
   "source": [
    "# Compare Algorithms\n",
    "fig = plt.figure(figsize=(12,8))\n",
    "fig.suptitle('Algorithm Comparison')\n",
    "ax = fig.add_subplot(111)\n",
    "plt.boxplot(results)\n",
    "ax.set_xticklabels(names)\n",
    "plt.show()"
   ]
  },
  {
   "cell_type": "markdown",
   "metadata": {},
   "source": [
    "From this boxplot, the scaled logistic regression, LDA and SVM algorithms have comparable log loss values. I wonder what we can squeeze out of the SVM with a little tuning. "
   ]
  },
  {
   "cell_type": "markdown",
   "metadata": {},
   "source": [
    "### Tuning SVM"
   ]
  },
  {
   "cell_type": "code",
   "execution_count": 19,
   "metadata": {
    "collapsed": false
   },
   "outputs": [
    {
     "name": "stdout",
     "output_type": "stream",
     "text": [
      "Best: -0.514571 using {'kernel': 'rbf', 'C': 2.0}\n",
      "-0.550006 (0.048319) with: {'kernel': 'linear', 'C': 0.1}\n",
      "-0.569414 (0.071662) with: {'kernel': 'poly', 'C': 0.1}\n",
      "-0.529748 (0.051764) with: {'kernel': 'rbf', 'C': 0.1}\n",
      "-0.561606 (0.056713) with: {'kernel': 'sigmoid', 'C': 0.1}\n",
      "-0.548003 (0.054112) with: {'kernel': 'linear', 'C': 0.3}\n",
      "-0.557817 (0.057193) with: {'kernel': 'poly', 'C': 0.3}\n",
      "-0.527778 (0.054773) with: {'kernel': 'rbf', 'C': 0.3}\n",
      "-0.561606 (0.056713) with: {'kernel': 'sigmoid', 'C': 0.3}\n",
      "-0.545617 (0.070372) with: {'kernel': 'linear', 'C': 0.5}\n",
      "-0.556507 (0.058389) with: {'kernel': 'poly', 'C': 0.5}\n",
      "-0.523040 (0.057915) with: {'kernel': 'rbf', 'C': 0.5}\n",
      "-0.561606 (0.056713) with: {'kernel': 'sigmoid', 'C': 0.5}\n",
      "-0.553182 (0.058368) with: {'kernel': 'linear', 'C': 0.7}\n",
      "-0.576204 (0.109679) with: {'kernel': 'poly', 'C': 0.7}\n",
      "-0.520903 (0.056359) with: {'kernel': 'rbf', 'C': 0.7}\n",
      "-0.561606 (0.056713) with: {'kernel': 'sigmoid', 'C': 0.7}\n",
      "-0.560733 (0.055651) with: {'kernel': 'linear', 'C': 0.9}\n",
      "-0.558083 (0.062990) with: {'kernel': 'poly', 'C': 0.9}\n",
      "-0.517883 (0.058074) with: {'kernel': 'rbf', 'C': 0.9}\n",
      "-0.561606 (0.056713) with: {'kernel': 'sigmoid', 'C': 0.9}\n",
      "-0.557823 (0.058686) with: {'kernel': 'linear', 'C': 1.0}\n",
      "-0.565777 (0.073326) with: {'kernel': 'poly', 'C': 1.0}\n",
      "-0.523293 (0.057825) with: {'kernel': 'rbf', 'C': 1.0}\n",
      "-0.561606 (0.056713) with: {'kernel': 'sigmoid', 'C': 1.0}\n",
      "-0.557800 (0.056752) with: {'kernel': 'linear', 'C': 1.3}\n",
      "-0.574611 (0.106326) with: {'kernel': 'poly', 'C': 1.3}\n",
      "-0.519290 (0.059446) with: {'kernel': 'rbf', 'C': 1.3}\n",
      "-0.561606 (0.056713) with: {'kernel': 'sigmoid', 'C': 1.3}\n",
      "-0.554297 (0.059748) with: {'kernel': 'linear', 'C': 1.5}\n",
      "-0.552509 (0.056137) with: {'kernel': 'poly', 'C': 1.5}\n",
      "-0.516715 (0.061107) with: {'kernel': 'rbf', 'C': 1.5}\n",
      "-0.561606 (0.056713) with: {'kernel': 'sigmoid', 'C': 1.5}\n",
      "-0.558117 (0.054805) with: {'kernel': 'linear', 'C': 1.7}\n",
      "-0.608281 (0.206527) with: {'kernel': 'poly', 'C': 1.7}\n",
      "-0.514864 (0.057358) with: {'kernel': 'rbf', 'C': 1.7}\n",
      "-0.561606 (0.056713) with: {'kernel': 'sigmoid', 'C': 1.7}\n",
      "-0.557949 (0.054103) with: {'kernel': 'linear', 'C': 2.0}\n",
      "-0.563597 (0.069656) with: {'kernel': 'poly', 'C': 2.0}\n",
      "-0.514571 (0.056319) with: {'kernel': 'rbf', 'C': 2.0}\n",
      "-0.561606 (0.056713) with: {'kernel': 'sigmoid', 'C': 2.0}\n"
     ]
    }
   ],
   "source": [
    "scaler = StandardScaler().fit(X_train)\n",
    "rescaledX = scaler.transform(X_train)\n",
    "c_values = [0.1, 0.3, 0.5, 0.7, 0.9, 1.0, 1.3, 1.5, 1.7, 2.0]\n",
    "kernel_values = ['linear', 'poly', 'rbf', 'sigmoid']\n",
    "param_grid = dict(C=c_values, kernel=kernel_values)\n",
    "model = SVC(probability=True)\n",
    "kfold = cross_validation.KFold(n=num_instances, n_folds=num_folds, random_state=seed)\n",
    "grid = GridSearchCV(estimator=model, param_grid=param_grid, scoring=scoring, cv=kfold)\n",
    "grid_result = grid.fit(rescaledX, Y_train)\n",
    "print(\"Best: %f using %s\" % (grid_result.best_score_, grid_result.best_params_))\n",
    "for params, mean_score, scores in grid_result.grid_scores_:\n",
    "    print(\"%f (%f) with: %r\" % (scores.mean(), scores.std(), params))"
   ]
  },
  {
   "cell_type": "markdown",
   "metadata": {},
   "source": [
    "The results from this SVM grid search are not better than the logistic regression so for the final model we will use that algorithm."
   ]
  },
  {
   "cell_type": "markdown",
   "metadata": {},
   "source": [
    "## Final Model\n",
    "\n",
    "Here we will prepare the final logistic regression model and check against our validation set. "
   ]
  },
  {
   "cell_type": "code",
   "execution_count": 20,
   "metadata": {
    "collapsed": false
   },
   "outputs": [
    {
     "name": "stdout",
     "output_type": "stream",
     "text": [
      "0.403941052787\n"
     ]
    }
   ],
   "source": [
    "# prepare the model\n",
    "scaler = StandardScaler().fit(X_train)\n",
    "rescaledX = scaler.transform(X_train)\n",
    "model = LogisticRegression()\n",
    "model.fit(rescaledX, Y_train)\n",
    "# estimate accuracy on validation dataset\n",
    "rescaledValidationX = scaler.transform(X_validation)\n",
    "predictions = model.predict_proba(rescaledValidationX)\n",
    "print(log_loss(Y_validation, predictions))"
   ]
  },
  {
   "cell_type": "markdown",
   "metadata": {},
   "source": [
    "## Make Prediction and Submit for Scoring\n",
    "\n",
    "Now we can make a prediction using the Driven Data test data and submit to the site for scoring."
   ]
  },
  {
   "cell_type": "code",
   "execution_count": 21,
   "metadata": {
    "collapsed": true
   },
   "outputs": [],
   "source": [
    "test_data = pd.read_csv(\"data/dd-test.csv\")\n",
    "test_data.columns.values[0] = 'id'  # Rename the first column (unnamed)\n",
    "test_data.columns = test_data.columns.str.replace(' ', '_')  # Replace the spaces in the col names.\n",
    "test_data.drop(['Total_Volume_Donated_(c.c.)'], axis=1, inplace=True)\n",
    "test_data['donations_per_month'] = test_data['Number_of_Donations']/test_data['Months_since_First_Donation']\n",
    "test_data['tenure_ratio'] = test_data['Months_since_Last_Donation']/test_data['Months_since_First_Donation']"
   ]
  },
  {
   "cell_type": "code",
   "execution_count": 22,
   "metadata": {
    "collapsed": false
   },
   "outputs": [],
   "source": [
    "input_data = test_data[['Months_since_Last_Donation', 'Number_of_Donations','Months_since_First_Donation','donations_per_month','tenure_ratio']]\n",
    "X = input_data.values.astype(float)\n",
    "rescaledValidationX = scaler.transform(X)\n",
    "predictions = model.predict_proba(rescaledValidationX)"
   ]
  },
  {
   "cell_type": "code",
   "execution_count": 23,
   "metadata": {
    "collapsed": false
   },
   "outputs": [],
   "source": [
    "submission_format = pd.read_csv(\"data/BloodDonationSubmissionFormat.csv\")  # Read in the submission format\n",
    "col_names = submission_format.columns\n",
    "col_names = ['',col_names[1]]\n",
    "submission = pd.DataFrame(test_data['id'])\n",
    "submission['pred'] = predictions[:, 1].tolist()\n",
    "submission.columns = col_names\n",
    "submission.to_csv(\"data/submission1.csv\", index=False)"
   ]
  },
  {
   "cell_type": "markdown",
   "metadata": {
    "collapsed": false
   },
   "source": [
    "And our score is 0.4484 on Driven Data which yields a rank of 172 of about 1200 participants. Not too bad."
   ]
  },
  {
   "cell_type": "markdown",
   "metadata": {},
   "source": [
    "![Driven Data Result](img/blood-donation1.png)"
   ]
  },
  {
   "cell_type": "markdown",
   "metadata": {
    "collapsed": true
   },
   "source": [
    "If you have any questions, comments or improvement suggestions, you can contact me via the links at http://davedunne.com"
   ]
  },
  {
   "cell_type": "code",
   "execution_count": null,
   "metadata": {
    "collapsed": true
   },
   "outputs": [],
   "source": []
  }
 ],
 "metadata": {
  "kernelspec": {
   "display_name": "Python 3",
   "language": "python",
   "name": "python3"
  },
  "language_info": {
   "codemirror_mode": {
    "name": "ipython",
    "version": 3
   },
   "file_extension": ".py",
   "mimetype": "text/x-python",
   "name": "python",
   "nbconvert_exporter": "python",
   "pygments_lexer": "ipython3",
   "version": "3.5.1"
  }
 },
 "nbformat": 4,
 "nbformat_minor": 0
}
